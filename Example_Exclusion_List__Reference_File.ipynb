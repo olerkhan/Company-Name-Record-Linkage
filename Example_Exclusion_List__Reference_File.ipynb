{
 "cells": [
  {
   "cell_type": "markdown",
   "metadata": {},
   "source": [
    "# Demo - Exclusion List"
   ]
  },
  {
   "cell_type": "markdown",
   "metadata": {},
   "source": [
    "### Getting started\n",
    "\n",
    "For running this demonstration, we first need to install and load a few R packages, which can be done by running the following lines:"
   ]
  },
  {
   "cell_type": "code",
   "execution_count": null,
   "metadata": {
    "message": false,
    "warning": false
   },
   "outputs": [],
   "source": [
    "required.packages <- c(\"rio\",\"tm\", \"dplyr\", \"RecordLinkage\")\n",
    "\n",
    "is.not.installed <- !(required.packages %in% installed.packages())\n",
    "if (any(is.not.installed)) {\n",
    "    install.packages(required.packages[is.not.installed])\n",
    "}\n",
    "invisible(lapply(required.packages, library, character.only = TRUE))\n"
   ]
  },
  {
   "cell_type": "markdown",
   "metadata": {},
   "source": [
    "The following url also will also allow one to get access to the data used for the demo:\n"
   ]
  },
  {
   "cell_type": "code",
   "execution_count": 2,
   "metadata": {
    "lines_to_next_cell": 2,
    "message": false,
    "warning": false
   },
   "outputs": [],
   "source": [
    "    \n",
    "path.to.github <- \"https://raw.github.com/olerkhan/Company-Name-Record-Linkage/master/\"\n"
   ]
  },
  {
   "cell_type": "markdown",
   "metadata": {},
   "source": [
    "## 1. Looking at the data\n",
    "\n",
    "We fist download some mock data to base our demo on.\n",
    "\n",
    "Note that most of the time, portfolio and target list information can be obtained in tabular format, from excel/csv files or from SQL databases -- we will thus assume such a format is available in our case and use it for the purpose of this presentation. <br>\n",
    "\n",
    "<br>\n",
    "\n",
    "#### Portfolio Data\n",
    "\n",
    "First, let us retrieve and have a look at our portfolio *P*:"
   ]
  },
  {
   "cell_type": "code",
   "execution_count": 12,
   "metadata": {
    "name": "cars"
   },
   "outputs": [],
   "source": [
    "file.name.ptf <- \"Fake_Portfolio.xlsx\"\n",
    "\n",
    "download.file(paste0(path.to.github, file.name.ptf), file.name.ptf, \"wget\")\n",
    "toy.portfolio <- import(file.name.ptf)\n",
    "toy.portfolio <- as_tibble(toy.portfolio)\n"
   ]
  },
  {
   "cell_type": "markdown",
   "metadata": {},
   "source": [
    "We can inspect the content of the *toy.portfolio* to see that it contains a list of companies, which are given by their names, together with some other information (country, headquarters). Furthermore, *toy.portfolio* can also typically cpntain some insurance specific informaion such as premium, limit, attachement point, etc:"
   ]
  },
  {
   "cell_type": "code",
   "execution_count": 13,
   "metadata": {},
   "outputs": [
    {
     "data": {
      "text/html": [
       "<table>\n",
       "<caption>A tibble: 10 × 5</caption>\n",
       "<thead>\n",
       "\t<tr><th scope=col>Id</th><th scope=col>Insured_Names</th><th scope=col>Country</th><th scope=col>Premium</th><th scope=col>Limit</th></tr>\n",
       "\t<tr><th scope=col>&lt;dbl&gt;</th><th scope=col>&lt;chr&gt;</th><th scope=col>&lt;chr&gt;</th><th scope=col>&lt;dbl&gt;</th><th scope=col>&lt;dbl&gt;</th></tr>\n",
       "</thead>\n",
       "<tbody>\n",
       "\t<tr><td> 1</td><td>Google, Inc.                    </td><td>US                 </td><td>1</td><td>10</td></tr>\n",
       "\t<tr><td> 2</td><td>Apple, Inc.                     </td><td>US                 </td><td>2</td><td>11</td></tr>\n",
       "\t<tr><td> 3</td><td>Facebook, Inc.                  </td><td>NA                 </td><td>3</td><td>12</td></tr>\n",
       "\t<tr><td> 4</td><td>Amazon.com, Inc                 </td><td>United States      </td><td>4</td><td>13</td></tr>\n",
       "\t<tr><td> 5</td><td>Microsoft Corporation           </td><td>United States      </td><td>5</td><td>14</td></tr>\n",
       "\t<tr><td> 6</td><td>willkürlicher Firmename         </td><td>DE                 </td><td>1</td><td> 5</td></tr>\n",
       "\t<tr><td> 7</td><td>anderer willkuerlicher Firmename</td><td>AT                 </td><td>3</td><td> 6</td></tr>\n",
       "\t<tr><td> 8</td><td>CuteKittens KGaA                </td><td>CH                 </td><td>3</td><td> 7</td></tr>\n",
       "\t<tr><td> 9</td><td>Sauron                          </td><td>Mordor             </td><td>4</td><td> 8</td></tr>\n",
       "\t<tr><td>10</td><td>Palpatine se                    </td><td>A galaxy far beyond</td><td>1</td><td> 1</td></tr>\n",
       "</tbody>\n",
       "</table>\n"
      ],
      "text/latex": [
       "A tibble: 10 × 5\n",
       "\\begin{tabular}{lllll}\n",
       " Id & Insured\\_Names & Country & Premium & Limit\\\\\n",
       " <dbl> & <chr> & <chr> & <dbl> & <dbl>\\\\\n",
       "\\hline\n",
       "\t  1 & Google, Inc.                     & US                  & 1 & 10\\\\\n",
       "\t  2 & Apple, Inc.                      & US                  & 2 & 11\\\\\n",
       "\t  3 & Facebook, Inc.                   & NA                  & 3 & 12\\\\\n",
       "\t  4 & Amazon.com, Inc                  & United States       & 4 & 13\\\\\n",
       "\t  5 & Microsoft Corporation            & United States       & 5 & 14\\\\\n",
       "\t  6 & willkürlicher Firmename          & DE                  & 1 &  5\\\\\n",
       "\t  7 & anderer willkuerlicher Firmename & AT                  & 3 &  6\\\\\n",
       "\t  8 & CuteKittens KGaA                 & CH                  & 3 &  7\\\\\n",
       "\t  9 & Sauron                           & Mordor              & 4 &  8\\\\\n",
       "\t 10 & Palpatine se                     & A galaxy far beyond & 1 &  1\\\\\n",
       "\\end{tabular}\n"
      ],
      "text/markdown": [
       "\n",
       "A tibble: 10 × 5\n",
       "\n",
       "| Id &lt;dbl&gt; | Insured_Names &lt;chr&gt; | Country &lt;chr&gt; | Premium &lt;dbl&gt; | Limit &lt;dbl&gt; |\n",
       "|---|---|---|---|---|\n",
       "|  1 | Google, Inc.                     | US                  | 1 | 10 |\n",
       "|  2 | Apple, Inc.                      | US                  | 2 | 11 |\n",
       "|  3 | Facebook, Inc.                   | NA                  | 3 | 12 |\n",
       "|  4 | Amazon.com, Inc                  | United States       | 4 | 13 |\n",
       "|  5 | Microsoft Corporation            | United States       | 5 | 14 |\n",
       "|  6 | willkürlicher Firmename          | DE                  | 1 |  5 |\n",
       "|  7 | anderer willkuerlicher Firmename | AT                  | 3 |  6 |\n",
       "|  8 | CuteKittens KGaA                 | CH                  | 3 |  7 |\n",
       "|  9 | Sauron                           | Mordor              | 4 |  8 |\n",
       "| 10 | Palpatine se                     | A galaxy far beyond | 1 |  1 |\n",
       "\n"
      ],
      "text/plain": [
       "   Id Insured_Names                    Country             Premium Limit\n",
       "1   1 Google, Inc.                     US                  1       10   \n",
       "2   2 Apple, Inc.                      US                  2       11   \n",
       "3   3 Facebook, Inc.                   NA                  3       12   \n",
       "4   4 Amazon.com, Inc                  United States       4       13   \n",
       "5   5 Microsoft Corporation            United States       5       14   \n",
       "6   6 willkürlicher Firmename          DE                  1        5   \n",
       "7   7 anderer willkuerlicher Firmename AT                  3        6   \n",
       "8   8 CuteKittens KGaA                 CH                  3        7   \n",
       "9   9 Sauron                           Mordor              4        8   \n",
       "10 10 Palpatine se                     A galaxy far beyond 1        1   "
      ]
     },
     "metadata": {},
     "output_type": "display_data"
    }
   ],
   "source": [
    "toy.portfolio\n"
   ]
  },
  {
   "cell_type": "markdown",
   "metadata": {},
   "source": [
    "<br>\n",
    "\n",
    "#### Target (exclusion) list data\n",
    "\n",
    "Let us now have a look the target list of 'bad' companies we will need to monitor:"
   ]
  },
  {
   "cell_type": "code",
   "execution_count": 15,
   "metadata": {},
   "outputs": [
    {
     "data": {
      "text/html": [
       "<table>\n",
       "<caption>A tibble: 8 × 4</caption>\n",
       "<thead>\n",
       "\t<tr><th scope=col>Id</th><th scope=col>Company_Names</th><th scope=col>Evilness_Level</th><th scope=col>Comments</th></tr>\n",
       "\t<tr><th scope=col>&lt;chr&gt;</th><th scope=col>&lt;chr&gt;</th><th scope=col>&lt;dbl&gt;</th><th scope=col>&lt;chr&gt;</th></tr>\n",
       "</thead>\n",
       "<tbody>\n",
       "\t<tr><td>A</td><td>Darth Vader Ltd                </td><td>  10</td><td>A subsidiary of Palpatine SE                                 </td></tr>\n",
       "\t<tr><td>B</td><td>Evil Incoporated               </td><td>  30</td><td>Went public some years ago                                   </td></tr>\n",
       "\t<tr><td>C</td><td>Sauron Gmbh                    </td><td>  12</td><td>Forced to split from RING AG by the regulator last year      </td></tr>\n",
       "\t<tr><td>D</td><td>Winnie the Pooh AG             </td><td>   2</td><td>Known for its controversial intensive honey farming practices</td></tr>\n",
       "\t<tr><td>E</td><td>Palpatine SE                   </td><td>  18</td><td>NA                                                           </td></tr>\n",
       "\t<tr><td>F</td><td>Cute Kittens KGaA              </td><td>2000</td><td>Quite not what you think they are                            </td></tr>\n",
       "\t<tr><td>G</td><td>willkürlicher Firmename        </td><td>   4</td><td>NA                                                           </td></tr>\n",
       "\t<tr><td>H</td><td>anderer willkürlicher Firmename</td><td>   9</td><td>NA                                                           </td></tr>\n",
       "</tbody>\n",
       "</table>\n"
      ],
      "text/latex": [
       "A tibble: 8 × 4\n",
       "\\begin{tabular}{llll}\n",
       " Id & Company\\_Names & Evilness\\_Level & Comments\\\\\n",
       " <chr> & <chr> & <dbl> & <chr>\\\\\n",
       "\\hline\n",
       "\t A & Darth Vader Ltd                 &   10 & A subsidiary of Palpatine SE                                 \\\\\n",
       "\t B & Evil Incoporated                &   30 & Went public some years ago                                   \\\\\n",
       "\t C & Sauron Gmbh                     &   12 & Forced to split from RING AG by the regulator last year      \\\\\n",
       "\t D & Winnie the Pooh AG              &    2 & Known for its controversial intensive honey farming practices\\\\\n",
       "\t E & Palpatine SE                    &   18 & NA                                                           \\\\\n",
       "\t F & Cute Kittens KGaA               & 2000 & Quite not what you think they are                            \\\\\n",
       "\t G & willkürlicher Firmename         &    4 & NA                                                           \\\\\n",
       "\t H & anderer willkürlicher Firmename &    9 & NA                                                           \\\\\n",
       "\\end{tabular}\n"
      ],
      "text/markdown": [
       "\n",
       "A tibble: 8 × 4\n",
       "\n",
       "| Id &lt;chr&gt; | Company_Names &lt;chr&gt; | Evilness_Level &lt;dbl&gt; | Comments &lt;chr&gt; |\n",
       "|---|---|---|---|\n",
       "| A | Darth Vader Ltd                 |   10 | A subsidiary of Palpatine SE                                  |\n",
       "| B | Evil Incoporated                |   30 | Went public some years ago                                    |\n",
       "| C | Sauron Gmbh                     |   12 | Forced to split from RING AG by the regulator last year       |\n",
       "| D | Winnie the Pooh AG              |    2 | Known for its controversial intensive honey farming practices |\n",
       "| E | Palpatine SE                    |   18 | NA                                                            |\n",
       "| F | Cute Kittens KGaA               | 2000 | Quite not what you think they are                             |\n",
       "| G | willkürlicher Firmename         |    4 | NA                                                            |\n",
       "| H | anderer willkürlicher Firmename |    9 | NA                                                            |\n",
       "\n"
      ],
      "text/plain": [
       "  Id Company_Names                   Evilness_Level\n",
       "1 A  Darth Vader Ltd                   10          \n",
       "2 B  Evil Incoporated                  30          \n",
       "3 C  Sauron Gmbh                       12          \n",
       "4 D  Winnie the Pooh AG                 2          \n",
       "5 E  Palpatine SE                      18          \n",
       "6 F  Cute Kittens KGaA               2000          \n",
       "7 G  willkürlicher Firmename            4          \n",
       "8 H  anderer willkürlicher Firmename    9          \n",
       "  Comments                                                     \n",
       "1 A subsidiary of Palpatine SE                                 \n",
       "2 Went public some years ago                                   \n",
       "3 Forced to split from RING AG by the regulator last year      \n",
       "4 Known for its controversial intensive honey farming practices\n",
       "5 NA                                                           \n",
       "6 Quite not what you think they are                            \n",
       "7 NA                                                           \n",
       "8 NA                                                           "
      ]
     },
     "metadata": {},
     "output_type": "display_data"
    }
   ],
   "source": [
    "file.name.list <- \"Fake_Target_List.xlsx\"\n",
    "\n",
    "download.file(paste0(path.to.github, file.name.list), file.name.list, \"wget\")\n",
    "toy.target.list <- import(file.name.list)\n",
    "toy.target.list <- as_tibble(toy.target.list)\n",
    "toy.target.list\n"
   ]
  },
  {
   "cell_type": "markdown",
   "metadata": {},
   "source": [
    "<br>\n",
    "\n",
    "## 2. A first naive approach - direct matching\n",
    "\n",
    "We first try the most simplistic (and bound to fail approach) of having direct comparison between the names:"
   ]
  },
  {
   "cell_type": "code",
   "execution_count": 17,
   "metadata": {},
   "outputs": [
    {
     "data": {
      "text/html": [
       "<style>\n",
       ".list-inline {list-style: none; margin:0; padding: 0}\n",
       ".list-inline>li {display: inline-block}\n",
       ".list-inline>li:not(:last-child)::after {content: \"\\00b7\"; padding: 0 .5ex}\n",
       "</style>\n",
       "<ol class=list-inline><li>FALSE</li><li>TRUE</li></ol>\n"
      ],
      "text/latex": [
       "\\begin{enumerate*}\n",
       "\\item FALSE\n",
       "\\item TRUE\n",
       "\\end{enumerate*}\n"
      ],
      "text/markdown": [
       "1. FALSE\n",
       "2. TRUE\n",
       "\n",
       "\n"
      ],
      "text/plain": [
       "[1] FALSE  TRUE"
      ]
     },
     "metadata": {},
     "output_type": "display_data"
    }
   ],
   "source": [
    "IsInList <- function(insured.names, target.list.names) {\n",
    "  is.in.list <- insured.names %in% target.list.names # strict equality operator\n",
    "  return(is.in.list)\n",
    "}\n",
    "\n",
    "IsInList(\n",
    "  insured.names = c(\"a\", \"b\"), # dummy insured names\n",
    "  target.list.names = c(\"aa\", \"aaa\", \"\", \"b\", \"not-a\") # dummy target list names\n",
    ")\n"
   ]
  },
  {
   "cell_type": "markdown",
   "metadata": {},
   "source": [
    "*a* does not appear in the target list, but *b* does, hence the FALSE and TRUE.\n",
    "\n",
    "So, as we can see, there is match if and only if there is perfect agreements between the names. Let us now apply this to our portfolio:"
   ]
  },
  {
   "cell_type": "code",
   "execution_count": 18,
   "metadata": {},
   "outputs": [
    {
     "data": {
      "text/html": [
       "<table>\n",
       "<caption>A tibble: 1 × 6</caption>\n",
       "<thead>\n",
       "\t<tr><th scope=col>Id</th><th scope=col>Insured_Names</th><th scope=col>Country</th><th scope=col>Premium</th><th scope=col>Limit</th><th scope=col>IsInList</th></tr>\n",
       "\t<tr><th scope=col>&lt;dbl&gt;</th><th scope=col>&lt;chr&gt;</th><th scope=col>&lt;chr&gt;</th><th scope=col>&lt;dbl&gt;</th><th scope=col>&lt;dbl&gt;</th><th scope=col>&lt;chr&gt;</th></tr>\n",
       "</thead>\n",
       "<tbody>\n",
       "\t<tr><td>6</td><td>willkürlicher Firmename</td><td>DE</td><td>1</td><td>5</td><td>Yes</td></tr>\n",
       "</tbody>\n",
       "</table>\n"
      ],
      "text/latex": [
       "A tibble: 1 × 6\n",
       "\\begin{tabular}{llllll}\n",
       " Id & Insured\\_Names & Country & Premium & Limit & IsInList\\\\\n",
       " <dbl> & <chr> & <chr> & <dbl> & <dbl> & <chr>\\\\\n",
       "\\hline\n",
       "\t 6 & willkürlicher Firmename & DE & 1 & 5 & Yes\\\\\n",
       "\\end{tabular}\n"
      ],
      "text/markdown": [
       "\n",
       "A tibble: 1 × 6\n",
       "\n",
       "| Id &lt;dbl&gt; | Insured_Names &lt;chr&gt; | Country &lt;chr&gt; | Premium &lt;dbl&gt; | Limit &lt;dbl&gt; | IsInList &lt;chr&gt; |\n",
       "|---|---|---|---|---|---|\n",
       "| 6 | willkürlicher Firmename | DE | 1 | 5 | Yes |\n",
       "\n"
      ],
      "text/plain": [
       "  Id Insured_Names           Country Premium Limit IsInList\n",
       "1 6  willkürlicher Firmename DE      1       5     Yes     "
      ]
     },
     "metadata": {},
     "output_type": "display_data"
    }
   ],
   "source": [
    "\n",
    "FlagPortfolioEntries <- function(portfolio, target.list) {\n",
    "  is.in.list <- IsInList(portfolio$Insured_Names, target.list$Company_Names)\n",
    "  portfolio[[\"IsInList\"]] <- ifelse(is.in.list, \"Yes\", \"No\")\n",
    "  return(portfolio)\n",
    "}\n",
    "\n",
    "FlagPortfolioEntries(toy.portfolio, toy.target.list) %>% filter(IsInList == \"Yes\")\n"
   ]
  },
  {
   "cell_type": "markdown",
   "metadata": {},
   "source": [
    "<br>\n",
    "\n",
    "The result above shows that only one entry (*Id = 6*) of our portfolio belongs to the target list. However, it is clear to the human eye that this is not enough. The following elements from the portfolio clearly should have been caught too:"
   ]
  },
  {
   "cell_type": "code",
   "execution_count": 19,
   "metadata": {},
   "outputs": [
    {
     "name": "stdout",
     "output_type": "stream",
     "text": [
      "[1] \"anderer willkuerlicher Firmename\" \"CuteKittens KGaA\"                \n",
      "[3] \"Palpatine se\"                     \"Sauron\"                          \n"
     ]
    }
   ],
   "source": [
    "out <- toy.portfolio %>% filter(Id %in% c(7, 8, 9, 10)) %>% pull(\"Insured_Names\") %>% sort()\n",
    "print(out)"
   ]
  },
  {
   "cell_type": "markdown",
   "metadata": {},
   "source": [
    "\n",
    "Since there are obviously the same than:"
   ]
  },
  {
   "cell_type": "code",
   "execution_count": 20,
   "metadata": {},
   "outputs": [
    {
     "name": "stdout",
     "output_type": "stream",
     "text": [
      "[1] \"anderer willkürlicher Firmename\" \"Cute Kittens KGaA\"              \n",
      "[3] \"Palpatine SE\"                    \"Sauron Gmbh\"                    \n"
     ]
    }
   ],
   "source": [
    "out <- toy.target.list %>% filter(Id %in% c(\"C\", \"E\", \"F\", \"H\")) %>% pull(\"Company_Names\") %>% sort()\n",
    "print(out)"
   ]
  },
  {
   "cell_type": "markdown",
   "metadata": {},
   "source": [
    "The reason they were not captured is visibly due to some difference in spelling which could not be captured by our 'hard' direct comparison.\n",
    "\n",
    "<br>\n",
    "\n",
    "## 3. A less naive approach - direct matching + cleaning\n",
    "\n",
    "The previous example showed that we are missing some matches because of differences that are irrelevant to the human eyes but matter for a machine: difference in capitalisation, white spaces, and words which carry 'no useful discriminative power', such as gmbh.\n",
    "\n",
    "This suggests we can be much better at capturing the companies of interest by doing some pre-processing, or cleaning, of our data.\n",
    "\n",
    "We present here a very simple example of it:"
   ]
  },
  {
   "cell_type": "code",
   "execution_count": 21,
   "metadata": {},
   "outputs": [
    {
     "name": "stdout",
     "output_type": "stream",
     "text": [
      "[1] \"some name\" \"look here\" \"heey\"     \n"
     ]
    }
   ],
   "source": [
    "\n",
    "CleanCompanyNames <- function(names) {\n",
    "  \n",
    "  stopwords <- c(\"gmbh\", \"kgaA\", \"inc\", \"ag\", \"se\", \"ltd\")\n",
    "  \n",
    "  cleaned.names <- names %>%\n",
    "    tolower() %>%               \n",
    "    removePunctuation() %>%     \n",
    "    removeWords(stopwords) %>%\n",
    "    stripWhitespace() %>%         # N.b. remove duplicated whitespaces\n",
    "    trimws()                      # N.b. remove leading and trailing whitespaces\n",
    "    \n",
    "  return(cleaned.names)\n",
    "}\n",
    "\n",
    "examples <- c(\"Some   name GmBh\", \"Look ...*-. here Ag\", \" heey ltd   \")\n",
    "cleaned.examples <- CleanCompanyNames(examples)\n",
    "print(cleaned.examples)"
   ]
  },
  {
   "cell_type": "markdown",
   "metadata": {},
   "source": [
    "Typically, the stopwords can be either be derived from a 'top-down approach' (for instance, list of known legal suffixes, see e.g. [wikipedia](https://en.wikipedia.org/wiki/List_of_legal_entity_types_by_country)) or from a 'bottump-up approach', e.g. doing a frequency analysis on some companynames corpus.\n",
    "\n",
    "Let us now try to use this new 'feature' in our attempt to match the two lists. For this, we will now 'update' our *FlagPortfolioEntries* function:\n"
   ]
  },
  {
   "cell_type": "code",
   "execution_count": 22,
   "metadata": {},
   "outputs": [
    {
     "data": {
      "text/html": [
       "<table>\n",
       "<caption>A tibble: 10 × 6</caption>\n",
       "<thead>\n",
       "\t<tr><th scope=col>Id</th><th scope=col>Insured_Names</th><th scope=col>Country</th><th scope=col>Premium</th><th scope=col>Limit</th><th scope=col>IsInList</th></tr>\n",
       "\t<tr><th scope=col>&lt;dbl&gt;</th><th scope=col>&lt;chr&gt;</th><th scope=col>&lt;chr&gt;</th><th scope=col>&lt;dbl&gt;</th><th scope=col>&lt;dbl&gt;</th><th scope=col>&lt;chr&gt;</th></tr>\n",
       "</thead>\n",
       "<tbody>\n",
       "\t<tr><td> 1</td><td>Google, Inc.                    </td><td>US                 </td><td>1</td><td>10</td><td>No </td></tr>\n",
       "\t<tr><td> 2</td><td>Apple, Inc.                     </td><td>US                 </td><td>2</td><td>11</td><td>No </td></tr>\n",
       "\t<tr><td> 3</td><td>Facebook, Inc.                  </td><td>NA                 </td><td>3</td><td>12</td><td>No </td></tr>\n",
       "\t<tr><td> 4</td><td>Amazon.com, Inc                 </td><td>United States      </td><td>4</td><td>13</td><td>No </td></tr>\n",
       "\t<tr><td> 5</td><td>Microsoft Corporation           </td><td>United States      </td><td>5</td><td>14</td><td>No </td></tr>\n",
       "\t<tr><td> 6</td><td>willkürlicher Firmename         </td><td>DE                 </td><td>1</td><td> 5</td><td>Yes</td></tr>\n",
       "\t<tr><td> 7</td><td>anderer willkuerlicher Firmename</td><td>AT                 </td><td>3</td><td> 6</td><td>No </td></tr>\n",
       "\t<tr><td> 8</td><td>CuteKittens KGaA                </td><td>CH                 </td><td>3</td><td> 7</td><td>No </td></tr>\n",
       "\t<tr><td> 9</td><td>Sauron                          </td><td>Mordor             </td><td>4</td><td> 8</td><td>Yes</td></tr>\n",
       "\t<tr><td>10</td><td>Palpatine se                    </td><td>A galaxy far beyond</td><td>1</td><td> 1</td><td>Yes</td></tr>\n",
       "</tbody>\n",
       "</table>\n"
      ],
      "text/latex": [
       "A tibble: 10 × 6\n",
       "\\begin{tabular}{llllll}\n",
       " Id & Insured\\_Names & Country & Premium & Limit & IsInList\\\\\n",
       " <dbl> & <chr> & <chr> & <dbl> & <dbl> & <chr>\\\\\n",
       "\\hline\n",
       "\t  1 & Google, Inc.                     & US                  & 1 & 10 & No \\\\\n",
       "\t  2 & Apple, Inc.                      & US                  & 2 & 11 & No \\\\\n",
       "\t  3 & Facebook, Inc.                   & NA                  & 3 & 12 & No \\\\\n",
       "\t  4 & Amazon.com, Inc                  & United States       & 4 & 13 & No \\\\\n",
       "\t  5 & Microsoft Corporation            & United States       & 5 & 14 & No \\\\\n",
       "\t  6 & willkürlicher Firmename          & DE                  & 1 &  5 & Yes\\\\\n",
       "\t  7 & anderer willkuerlicher Firmename & AT                  & 3 &  6 & No \\\\\n",
       "\t  8 & CuteKittens KGaA                 & CH                  & 3 &  7 & No \\\\\n",
       "\t  9 & Sauron                           & Mordor              & 4 &  8 & Yes\\\\\n",
       "\t 10 & Palpatine se                     & A galaxy far beyond & 1 &  1 & Yes\\\\\n",
       "\\end{tabular}\n"
      ],
      "text/markdown": [
       "\n",
       "A tibble: 10 × 6\n",
       "\n",
       "| Id &lt;dbl&gt; | Insured_Names &lt;chr&gt; | Country &lt;chr&gt; | Premium &lt;dbl&gt; | Limit &lt;dbl&gt; | IsInList &lt;chr&gt; |\n",
       "|---|---|---|---|---|---|\n",
       "|  1 | Google, Inc.                     | US                  | 1 | 10 | No  |\n",
       "|  2 | Apple, Inc.                      | US                  | 2 | 11 | No  |\n",
       "|  3 | Facebook, Inc.                   | NA                  | 3 | 12 | No  |\n",
       "|  4 | Amazon.com, Inc                  | United States       | 4 | 13 | No  |\n",
       "|  5 | Microsoft Corporation            | United States       | 5 | 14 | No  |\n",
       "|  6 | willkürlicher Firmename          | DE                  | 1 |  5 | Yes |\n",
       "|  7 | anderer willkuerlicher Firmename | AT                  | 3 |  6 | No  |\n",
       "|  8 | CuteKittens KGaA                 | CH                  | 3 |  7 | No  |\n",
       "|  9 | Sauron                           | Mordor              | 4 |  8 | Yes |\n",
       "| 10 | Palpatine se                     | A galaxy far beyond | 1 |  1 | Yes |\n",
       "\n"
      ],
      "text/plain": [
       "   Id Insured_Names                    Country             Premium Limit\n",
       "1   1 Google, Inc.                     US                  1       10   \n",
       "2   2 Apple, Inc.                      US                  2       11   \n",
       "3   3 Facebook, Inc.                   NA                  3       12   \n",
       "4   4 Amazon.com, Inc                  United States       4       13   \n",
       "5   5 Microsoft Corporation            United States       5       14   \n",
       "6   6 willkürlicher Firmename          DE                  1        5   \n",
       "7   7 anderer willkuerlicher Firmename AT                  3        6   \n",
       "8   8 CuteKittens KGaA                 CH                  3        7   \n",
       "9   9 Sauron                           Mordor              4        8   \n",
       "10 10 Palpatine se                     A galaxy far beyond 1        1   \n",
       "   IsInList\n",
       "1  No      \n",
       "2  No      \n",
       "3  No      \n",
       "4  No      \n",
       "5  No      \n",
       "6  Yes     \n",
       "7  No      \n",
       "8  No      \n",
       "9  Yes     \n",
       "10 Yes     "
      ]
     },
     "metadata": {},
     "output_type": "display_data"
    }
   ],
   "source": [
    "\n",
    "FlagPortfolioEntries_v2.0 <- function(portfolio, target.list) {\n",
    "  \n",
    "  cleaned.insured.names <- CleanCompanyNames(portfolio$Insured_Names)\n",
    "  cleaned.list.names    <- CleanCompanyNames(target.list$Company_Names)\n",
    "  \n",
    "  is.in.list <- IsInList(cleaned.insured.names, cleaned.list.names)\n",
    "  portfolio[[\"IsInList\"]] <- ifelse(is.in.list, \"Yes\", \"No\")\n",
    "  \n",
    "  return(portfolio)\n",
    "}\n",
    "\n",
    "FlagPortfolioEntries_v2.0(toy.portfolio, toy.target.list) \n",
    "\n"
   ]
  },
  {
   "cell_type": "markdown",
   "metadata": {},
   "source": [
    "This is quite better already and encouraging. Let us now see in the next section how to go even further.\n",
    "\n",
    "<br>\n"
   ]
  },
  {
   "cell_type": "markdown",
   "metadata": {},
   "source": [
    "## 4. Probabilistic Record Linkage - towards a robust solution"
   ]
  },
  {
   "cell_type": "markdown",
   "metadata": {},
   "source": [
    "*Note that record linkage is also sometimes known as __entity linkage__ , and there is debate whether the two names cover the same discipline exactly or not. We will here assume they do and furthemore consider that the task of 'linking records' / 'identifying records with a unique identifier' are the same.*"
   ]
  },
  {
   "cell_type": "markdown",
   "metadata": {},
   "source": [
    "What we have seen so far was *Direct matching*  - two records are linked only if they are identical; or more precisely, if some cleaned or post-processed versions of these records are identical. We will now look at the so-called *fuzzy-matching* approach, also known as 'probabilistic record linkage', which attempts at matching records that may not be perfectly identical, but only very close.\n",
    "\n",
    "<br>\n",
    "  \n",
    "### Fuzzy-matching\n",
    "\n",
    "Sometimes, two records may refer to the same entity but may be present with some spelling variations or typo, making an exact match inaccurate. Compare for instance:"
   ]
  },
  {
   "cell_type": "code",
   "execution_count": 23,
   "metadata": {},
   "outputs": [
    {
     "name": "stdout",
     "output_type": "stream",
     "text": [
      "[1] \"anderer willkuerlicher Firmename\" \"CuteKittens KGaA\"                \n"
     ]
    }
   ],
   "source": [
    "out <- toy.portfolio %>% filter(Id %in%  c(8, 7)) %>% pull(\"Insured_Names\") %>% sort()\n",
    "print(out)"
   ]
  },
  {
   "cell_type": "markdown",
   "metadata": {},
   "source": [
    "together with \n"
   ]
  },
  {
   "cell_type": "code",
   "execution_count": 24,
   "metadata": {},
   "outputs": [
    {
     "name": "stdout",
     "output_type": "stream",
     "text": [
      "[1] \"anderer willkürlicher Firmename\" \"Cute Kittens KGaA\"              \n"
     ]
    }
   ],
   "source": [
    "out <- toy.target.list %>% filter(Id %in% c(\"F\", \"H\")) %>% pull(\"Company_Names\") %>% sort()\n",
    "print(out)"
   ]
  },
  {
   "cell_type": "markdown",
   "metadata": {},
   "source": [
    "For the human eyes, these records are clearly the same, but not necessarily for a machine.\n",
    "\n",
    "<br>\n",
    "\n",
    "#### A simple string similarity measure - Levenshtein\n",
    "\n",
    "How can we approach this problem? A standard way to adress the problem is to consider 'similarity measure' between strings, the most prominent one being the levenshtein edit (pseudo-)distance:\n"
   ]
  },
  {
   "cell_type": "code",
   "execution_count": 25,
   "metadata": {},
   "outputs": [
    {
     "name": "stdout",
     "output_type": "stream",
     "text": [
      "[1] 0 1 4 3 9\n"
     ]
    }
   ],
   "source": [
    "\n",
    "some.example <- c(\"coca-cola\", \"coca cola\" , \"cocacola UK\", \"koco-mola\", \"Coca Cola World\")\n",
    "\n",
    "d <- levenshteinDist(\"coca-cola\", some.example) # Edit distance: number of permutations/transpositions needed\n",
    "\n",
    "print(d)"
   ]
  },
  {
   "cell_type": "markdown",
   "metadata": {},
   "source": [
    "Note that in practice, a *normalised distance* is needed, since an edit distance *d=1* for, say, a one-letter word or instead for a 20-letters word obviously would carry  different implications. For this reason, string distances are in practice always normalised between 0 and 1 (in the case of Levenshtein, this is customarily done by dividing by the largest length of the noun used for comparison) - a distance of 0 means two words are identical, and the closer the distance is from 1, the more different two words are. \n",
    "\n",
    "Furthemore, it is also often customary to use 'similarity' instead of distance - where similarity is simply defined as *1 - distance*. Hence a similarity of 1 means perfect identity, and a similarity of 0 implies total dissimilarity between the two words. These notions being defined, we can look at the same example again:"
   ]
  },
  {
   "cell_type": "code",
   "execution_count": 27,
   "metadata": {},
   "outputs": [
    {
     "name": "stdout",
     "output_type": "stream",
     "text": [
      "[1] 1.0000000 0.8888889 0.6363636 0.6666667 0.4000000\n"
     ]
    }
   ],
   "source": [
    "\n",
    "some.example <- c(\"coca-cola\", \"coca cola\" , \"cocacola UK\", \"koco-mola\", \"Coca Cola World\")\n",
    "\n",
    "d <- levenshteinSim(\"coca-cola\", some.example)  # Normalised between 0 and 1\n",
    "\n",
    "print(d)"
   ]
  },
  {
   "cell_type": "markdown",
   "metadata": {},
   "source": [
    "\n",
    "As announced above, we see here that  similarity of 1 corresponds to a perfect match, and the closer to 0 the worse it gets. In order to use similarity measures to match two lists against each other, we will of course need to introduce a score threshold.\n"
   ]
  },
  {
   "cell_type": "code",
   "execution_count": 28,
   "metadata": {
    "lines_to_next_cell": 2
   },
   "outputs": [
    {
     "name": "stdout",
     "output_type": "stream",
     "text": [
      "[1]  TRUE FALSE FALSE FALSE FALSE FALSE\n"
     ]
    }
   ],
   "source": [
    "\n",
    "IsInlist_Fuzyy <- function(insured.names, list.names, threshold) {\n",
    "\n",
    "  is.in.list <- vector(mode = \"logical\", length = length(insured.names))\n",
    "  \n",
    "  for (i in 1:length(insured.names)) { # N.b. this is a pedagogical but not very efficient implementation!\n",
    "    score <- levenshteinSim(insured.names[i], list.names)\n",
    "    best.score <- max(score)\n",
    "    is.in.list[i] <- ifelse(best.score >= threshold, TRUE, FALSE)\n",
    "  }\n",
    "\n",
    "  return(is.in.list)\n",
    "}\n",
    "\n",
    "\n",
    "is.in.list <- IsInlist_Fuzyy(\n",
    "  insured.names = c(\"coca-cola\", \"coca cola\" , \"cocacola UK\", \"koco-mola\", \"fanta Inc\", \"ZZZ Corp\") ,\n",
    "  list.names = c(\"coca-cola\", \"fanta Inc.\"), \n",
    "  threshold = 1\n",
    ")\n",
    "\n",
    "print(is.in.list)"
   ]
  },
  {
   "cell_type": "markdown",
   "metadata": {},
   "source": [
    "Note imposing a threshold of 1 is identical to direct matching. Note also than inevitable false positives will appear when playing with the treshold value!\n"
   ]
  },
  {
   "cell_type": "code",
   "execution_count": 29,
   "metadata": {
    "lines_to_next_cell": 2
   },
   "outputs": [
    {
     "name": "stdout",
     "output_type": "stream",
     "text": [
      "[1]  TRUE  TRUE FALSE  TRUE  TRUE FALSE\n"
     ]
    }
   ],
   "source": [
    "\n",
    "is.in.list <- IsInlist_Fuzyy(\n",
    "  insured.names = c(\"coca-cola\", \"coca cola\" , \"cocacola UK\", \"koco-mola\", \"fanta Inc\", \"ZZZ Corp\") ,\n",
    "  list.names = c(\"coca-cola\", \"fanta Inc.\"), \n",
    "  threshold = 0.65\n",
    ")\n",
    "\n",
    "print(is.in.list)"
   ]
  },
  {
   "cell_type": "markdown",
   "metadata": {},
   "source": [
    "Last but not least, it should here be noted that using fuzzy-matching, as we did, for the following cases:"
   ]
  },
  {
   "cell_type": "code",
   "execution_count": 30,
   "metadata": {},
   "outputs": [
    {
     "name": "stdout",
     "output_type": "stream",
     "text": [
      "[1] \"anderer willkuerlicher Firmename\"\n",
      "[1] \"anderer willkürlicher Firmename\"\n"
     ]
    }
   ],
   "source": [
    "\n",
    "name.portfolio <-  toy.portfolio %>% filter(Id %in%  c(7)) %>% pull(\"Insured_Names\")\n",
    "name.list <-  toy.target.list %>% filter(Id %in% c(\"H\")) %>% pull(\"Company_Names\")\n",
    "\n",
    "print(name.portfolio)\n",
    "print(name.list)"
   ]
  },
  {
   "cell_type": "markdown",
   "metadata": {},
   "source": [
    "is not the only way to go. The difference caused by special characters like the umlaut here could have also typically been dealt during the 'cleaning' phase."
   ]
  },
  {
   "cell_type": "markdown",
   "metadata": {},
   "source": [
    "<br>\n",
    "\n",
    "#### Wrapping it up: Levenshtein + name cleaning\n",
    "\n",
    "Eventually, we can now flag our portfolio using all what we have seen so far!\n",
    "\n"
   ]
  },
  {
   "cell_type": "code",
   "execution_count": 31,
   "metadata": {},
   "outputs": [
    {
     "data": {
      "text/html": [
       "<table>\n",
       "<caption>A tibble: 10 × 6</caption>\n",
       "<thead>\n",
       "\t<tr><th scope=col>Id</th><th scope=col>Insured_Names</th><th scope=col>Country</th><th scope=col>Premium</th><th scope=col>Limit</th><th scope=col>IsInList</th></tr>\n",
       "\t<tr><th scope=col>&lt;dbl&gt;</th><th scope=col>&lt;chr&gt;</th><th scope=col>&lt;chr&gt;</th><th scope=col>&lt;dbl&gt;</th><th scope=col>&lt;dbl&gt;</th><th scope=col>&lt;chr&gt;</th></tr>\n",
       "</thead>\n",
       "<tbody>\n",
       "\t<tr><td> 1</td><td>Google, Inc.                    </td><td>US                 </td><td>1</td><td>10</td><td>No </td></tr>\n",
       "\t<tr><td> 2</td><td>Apple, Inc.                     </td><td>US                 </td><td>2</td><td>11</td><td>No </td></tr>\n",
       "\t<tr><td> 3</td><td>Facebook, Inc.                  </td><td>NA                 </td><td>3</td><td>12</td><td>No </td></tr>\n",
       "\t<tr><td> 4</td><td>Amazon.com, Inc                 </td><td>United States      </td><td>4</td><td>13</td><td>No </td></tr>\n",
       "\t<tr><td> 5</td><td>Microsoft Corporation           </td><td>United States      </td><td>5</td><td>14</td><td>No </td></tr>\n",
       "\t<tr><td> 6</td><td>willkürlicher Firmename         </td><td>DE                 </td><td>1</td><td> 5</td><td>Yes</td></tr>\n",
       "\t<tr><td> 7</td><td>anderer willkuerlicher Firmename</td><td>AT                 </td><td>3</td><td> 6</td><td>Yes</td></tr>\n",
       "\t<tr><td> 8</td><td>CuteKittens KGaA                </td><td>CH                 </td><td>3</td><td> 7</td><td>Yes</td></tr>\n",
       "\t<tr><td> 9</td><td>Sauron                          </td><td>Mordor             </td><td>4</td><td> 8</td><td>Yes</td></tr>\n",
       "\t<tr><td>10</td><td>Palpatine se                    </td><td>A galaxy far beyond</td><td>1</td><td> 1</td><td>Yes</td></tr>\n",
       "</tbody>\n",
       "</table>\n"
      ],
      "text/latex": [
       "A tibble: 10 × 6\n",
       "\\begin{tabular}{llllll}\n",
       " Id & Insured\\_Names & Country & Premium & Limit & IsInList\\\\\n",
       " <dbl> & <chr> & <chr> & <dbl> & <dbl> & <chr>\\\\\n",
       "\\hline\n",
       "\t  1 & Google, Inc.                     & US                  & 1 & 10 & No \\\\\n",
       "\t  2 & Apple, Inc.                      & US                  & 2 & 11 & No \\\\\n",
       "\t  3 & Facebook, Inc.                   & NA                  & 3 & 12 & No \\\\\n",
       "\t  4 & Amazon.com, Inc                  & United States       & 4 & 13 & No \\\\\n",
       "\t  5 & Microsoft Corporation            & United States       & 5 & 14 & No \\\\\n",
       "\t  6 & willkürlicher Firmename          & DE                  & 1 &  5 & Yes\\\\\n",
       "\t  7 & anderer willkuerlicher Firmename & AT                  & 3 &  6 & Yes\\\\\n",
       "\t  8 & CuteKittens KGaA                 & CH                  & 3 &  7 & Yes\\\\\n",
       "\t  9 & Sauron                           & Mordor              & 4 &  8 & Yes\\\\\n",
       "\t 10 & Palpatine se                     & A galaxy far beyond & 1 &  1 & Yes\\\\\n",
       "\\end{tabular}\n"
      ],
      "text/markdown": [
       "\n",
       "A tibble: 10 × 6\n",
       "\n",
       "| Id &lt;dbl&gt; | Insured_Names &lt;chr&gt; | Country &lt;chr&gt; | Premium &lt;dbl&gt; | Limit &lt;dbl&gt; | IsInList &lt;chr&gt; |\n",
       "|---|---|---|---|---|---|\n",
       "|  1 | Google, Inc.                     | US                  | 1 | 10 | No  |\n",
       "|  2 | Apple, Inc.                      | US                  | 2 | 11 | No  |\n",
       "|  3 | Facebook, Inc.                   | NA                  | 3 | 12 | No  |\n",
       "|  4 | Amazon.com, Inc                  | United States       | 4 | 13 | No  |\n",
       "|  5 | Microsoft Corporation            | United States       | 5 | 14 | No  |\n",
       "|  6 | willkürlicher Firmename          | DE                  | 1 |  5 | Yes |\n",
       "|  7 | anderer willkuerlicher Firmename | AT                  | 3 |  6 | Yes |\n",
       "|  8 | CuteKittens KGaA                 | CH                  | 3 |  7 | Yes |\n",
       "|  9 | Sauron                           | Mordor              | 4 |  8 | Yes |\n",
       "| 10 | Palpatine se                     | A galaxy far beyond | 1 |  1 | Yes |\n",
       "\n"
      ],
      "text/plain": [
       "   Id Insured_Names                    Country             Premium Limit\n",
       "1   1 Google, Inc.                     US                  1       10   \n",
       "2   2 Apple, Inc.                      US                  2       11   \n",
       "3   3 Facebook, Inc.                   NA                  3       12   \n",
       "4   4 Amazon.com, Inc                  United States       4       13   \n",
       "5   5 Microsoft Corporation            United States       5       14   \n",
       "6   6 willkürlicher Firmename          DE                  1        5   \n",
       "7   7 anderer willkuerlicher Firmename AT                  3        6   \n",
       "8   8 CuteKittens KGaA                 CH                  3        7   \n",
       "9   9 Sauron                           Mordor              4        8   \n",
       "10 10 Palpatine se                     A galaxy far beyond 1        1   \n",
       "   IsInList\n",
       "1  No      \n",
       "2  No      \n",
       "3  No      \n",
       "4  No      \n",
       "5  No      \n",
       "6  Yes     \n",
       "7  Yes     \n",
       "8  Yes     \n",
       "9  Yes     \n",
       "10 Yes     "
      ]
     },
     "metadata": {},
     "output_type": "display_data"
    }
   ],
   "source": [
    "\n",
    "FlagPortfolioEntries_v3.0 <- function(portfolio, target.list, threshold = 0.9) {\n",
    "\n",
    "  cleaned.insured.names <- CleanCompanyNames(portfolio$Insured_Names)\n",
    "  cleaned.list.names    <- CleanCompanyNames(target.list$Company_Names)\n",
    "\n",
    "  is.in.list <- IsInlist_Fuzyy(cleaned.insured.names, cleaned.list.names, threshold)\n",
    "  portfolio[[\"IsInList\"]] <- ifelse(is.in.list, \"Yes\", \"No\")\n",
    "\n",
    "  return(portfolio)\n",
    "}\n",
    "\n",
    "FlagPortfolioEntries_v3.0(toy.portfolio, toy.target.list)\n"
   ]
  },
  {
   "cell_type": "markdown",
   "metadata": {},
   "source": [
    "We see that we now obtain a decent result!\n",
    "\n",
    "<br>\n",
    "\n",
    "### An important practical aspect - what did I match against exactly?\n",
    "\n",
    "So far our *FlagPortfolioEntries* function was only telling us which record in our portfolio was present in the target list. However, in practice, what is most of the time needed is to know *to which record of the target list* or portfolio entry was matched again. This is especially true when the goal is also to do data enrichment.\n",
    "\n",
    "The good news is, it is very straightforward to modify the previous code to achieve this. First we adapt our fuzzy matching function so that it returns, for each portfolio record, the row index of the target list against it there was match (if there was indeed any):\n"
   ]
  },
  {
   "cell_type": "code",
   "execution_count": 32,
   "metadata": {},
   "outputs": [
    {
     "name": "stdout",
     "output_type": "stream",
     "text": [
      "[1]  1  1  1  1  2 NA\n"
     ]
    }
   ],
   "source": [
    "\n",
    "FindFuzzyMatches <- function(insured.names, list.names, threshold) {\n",
    "\n",
    "  matches.location <- vector(mode = \"integer\", length = length(insured.names))\n",
    "  \n",
    "  for (i in 1:length(insured.names)) { # N.b. this is a pedagogical but not very inefficient implementation!\n",
    "    score <- levenshteinSim(insured.names[i], list.names)\n",
    "    best.score <- max(score)\n",
    "    best.match.index <- which.max(score)\n",
    "    matches.location[i] <- ifelse(best.score >= threshold, best.match.index, NA)\n",
    "  }\n",
    "\n",
    "  return(matches.location)\n",
    "}\n",
    "\n",
    "is.match <- FindFuzzyMatches(\n",
    "  insured.names = c(\"coca-cola\", \"coca cola\" , \"cocacola UK\", \"koco-mola\", \"fanta Inc\", \"ZZZ Corp\") ,\n",
    "  list.names = c(\"coca-cola\", \"fanta Inc.\"), \n",
    "  threshold = 0.6\n",
    ")\n",
    "\n",
    "print(is.match)\n"
   ]
  },
  {
   "cell_type": "markdown",
   "metadata": {},
   "source": [
    "Notice that we can visualise this result in a 'friendlier' way as follows:"
   ]
  },
  {
   "cell_type": "code",
   "execution_count": 33,
   "metadata": {},
   "outputs": [
    {
     "name": "stdout",
     "output_type": "stream",
     "text": [
      "[1] \"coca-cola\"  \"coca-cola\"  \"coca-cola\"  \"coca-cola\"  \"fanta Inc.\"\n",
      "[6] NA          \n"
     ]
    }
   ],
   "source": [
    "\n",
    "matches.location <- FindFuzzyMatches(\n",
    "  insured.names = c(\"coca-cola\", \"coca cola\" , \"cocacola UK\", \"koco-mola\", \"fanta Inc\", \"ZZZ Corp\") ,\n",
    "  list.names =  c(\"coca-cola\", \"fanta Inc.\"),\n",
    "  threshold = 0.6\n",
    ")\n",
    "\n",
    "out <- c(\"coca-cola\", \"fanta Inc.\")[matches.location]\n",
    "print(out)\n"
   ]
  },
  {
   "cell_type": "markdown",
   "metadata": {},
   "source": [
    "Eventually we can use this slightly modified form to perform a left join and reach the desired result:\n"
   ]
  },
  {
   "cell_type": "code",
   "execution_count": 34,
   "metadata": {},
   "outputs": [
    {
     "data": {
      "text/html": [
       "<table>\n",
       "<caption>A tibble: 10 × 9</caption>\n",
       "<thead>\n",
       "\t<tr><th scope=col>Id</th><th scope=col>Insured_Names</th><th scope=col>Country</th><th scope=col>Premium</th><th scope=col>Limit</th><th scope=col>matches.id</th><th scope=col>Company_Names</th><th scope=col>Evilness_Level</th><th scope=col>Comments</th></tr>\n",
       "\t<tr><th scope=col>&lt;dbl&gt;</th><th scope=col>&lt;chr&gt;</th><th scope=col>&lt;chr&gt;</th><th scope=col>&lt;dbl&gt;</th><th scope=col>&lt;dbl&gt;</th><th scope=col>&lt;chr&gt;</th><th scope=col>&lt;chr&gt;</th><th scope=col>&lt;dbl&gt;</th><th scope=col>&lt;chr&gt;</th></tr>\n",
       "</thead>\n",
       "<tbody>\n",
       "\t<tr><td> 1</td><td>Google, Inc.                    </td><td>US                 </td><td>1</td><td>10</td><td>NA</td><td>NA                             </td><td>  NA</td><td>NA                                                     </td></tr>\n",
       "\t<tr><td> 2</td><td>Apple, Inc.                     </td><td>US                 </td><td>2</td><td>11</td><td>NA</td><td>NA                             </td><td>  NA</td><td>NA                                                     </td></tr>\n",
       "\t<tr><td> 3</td><td>Facebook, Inc.                  </td><td>NA                 </td><td>3</td><td>12</td><td>NA</td><td>NA                             </td><td>  NA</td><td>NA                                                     </td></tr>\n",
       "\t<tr><td> 4</td><td>Amazon.com, Inc                 </td><td>United States      </td><td>4</td><td>13</td><td>NA</td><td>NA                             </td><td>  NA</td><td>NA                                                     </td></tr>\n",
       "\t<tr><td> 5</td><td>Microsoft Corporation           </td><td>United States      </td><td>5</td><td>14</td><td>NA</td><td>NA                             </td><td>  NA</td><td>NA                                                     </td></tr>\n",
       "\t<tr><td> 6</td><td>willkürlicher Firmename         </td><td>DE                 </td><td>1</td><td> 5</td><td>G </td><td>willkürlicher Firmename        </td><td>   4</td><td>NA                                                     </td></tr>\n",
       "\t<tr><td> 7</td><td>anderer willkuerlicher Firmename</td><td>AT                 </td><td>3</td><td> 6</td><td>H </td><td>anderer willkürlicher Firmename</td><td>   9</td><td>NA                                                     </td></tr>\n",
       "\t<tr><td> 8</td><td>CuteKittens KGaA                </td><td>CH                 </td><td>3</td><td> 7</td><td>F </td><td>Cute Kittens KGaA              </td><td>2000</td><td>Quite not what you think they are                      </td></tr>\n",
       "\t<tr><td> 9</td><td>Sauron                          </td><td>Mordor             </td><td>4</td><td> 8</td><td>C </td><td>Sauron Gmbh                    </td><td>  12</td><td>Forced to split from RING AG by the regulator last year</td></tr>\n",
       "\t<tr><td>10</td><td>Palpatine se                    </td><td>A galaxy far beyond</td><td>1</td><td> 1</td><td>E </td><td>Palpatine SE                   </td><td>  18</td><td>NA                                                     </td></tr>\n",
       "</tbody>\n",
       "</table>\n"
      ],
      "text/latex": [
       "A tibble: 10 × 9\n",
       "\\begin{tabular}{lllllllll}\n",
       " Id & Insured\\_Names & Country & Premium & Limit & matches.id & Company\\_Names & Evilness\\_Level & Comments\\\\\n",
       " <dbl> & <chr> & <chr> & <dbl> & <dbl> & <chr> & <chr> & <dbl> & <chr>\\\\\n",
       "\\hline\n",
       "\t  1 & Google, Inc.                     & US                  & 1 & 10 & NA & NA                              &   NA & NA                                                     \\\\\n",
       "\t  2 & Apple, Inc.                      & US                  & 2 & 11 & NA & NA                              &   NA & NA                                                     \\\\\n",
       "\t  3 & Facebook, Inc.                   & NA                  & 3 & 12 & NA & NA                              &   NA & NA                                                     \\\\\n",
       "\t  4 & Amazon.com, Inc                  & United States       & 4 & 13 & NA & NA                              &   NA & NA                                                     \\\\\n",
       "\t  5 & Microsoft Corporation            & United States       & 5 & 14 & NA & NA                              &   NA & NA                                                     \\\\\n",
       "\t  6 & willkürlicher Firmename          & DE                  & 1 &  5 & G  & willkürlicher Firmename         &    4 & NA                                                     \\\\\n",
       "\t  7 & anderer willkuerlicher Firmename & AT                  & 3 &  6 & H  & anderer willkürlicher Firmename &    9 & NA                                                     \\\\\n",
       "\t  8 & CuteKittens KGaA                 & CH                  & 3 &  7 & F  & Cute Kittens KGaA               & 2000 & Quite not what you think they are                      \\\\\n",
       "\t  9 & Sauron                           & Mordor              & 4 &  8 & C  & Sauron Gmbh                     &   12 & Forced to split from RING AG by the regulator last year\\\\\n",
       "\t 10 & Palpatine se                     & A galaxy far beyond & 1 &  1 & E  & Palpatine SE                    &   18 & NA                                                     \\\\\n",
       "\\end{tabular}\n"
      ],
      "text/markdown": [
       "\n",
       "A tibble: 10 × 9\n",
       "\n",
       "| Id &lt;dbl&gt; | Insured_Names &lt;chr&gt; | Country &lt;chr&gt; | Premium &lt;dbl&gt; | Limit &lt;dbl&gt; | matches.id &lt;chr&gt; | Company_Names &lt;chr&gt; | Evilness_Level &lt;dbl&gt; | Comments &lt;chr&gt; |\n",
       "|---|---|---|---|---|---|---|---|---|\n",
       "|  1 | Google, Inc.                     | US                  | 1 | 10 | NA | NA                              |   NA | NA                                                      |\n",
       "|  2 | Apple, Inc.                      | US                  | 2 | 11 | NA | NA                              |   NA | NA                                                      |\n",
       "|  3 | Facebook, Inc.                   | NA                  | 3 | 12 | NA | NA                              |   NA | NA                                                      |\n",
       "|  4 | Amazon.com, Inc                  | United States       | 4 | 13 | NA | NA                              |   NA | NA                                                      |\n",
       "|  5 | Microsoft Corporation            | United States       | 5 | 14 | NA | NA                              |   NA | NA                                                      |\n",
       "|  6 | willkürlicher Firmename          | DE                  | 1 |  5 | G  | willkürlicher Firmename         |    4 | NA                                                      |\n",
       "|  7 | anderer willkuerlicher Firmename | AT                  | 3 |  6 | H  | anderer willkürlicher Firmename |    9 | NA                                                      |\n",
       "|  8 | CuteKittens KGaA                 | CH                  | 3 |  7 | F  | Cute Kittens KGaA               | 2000 | Quite not what you think they are                       |\n",
       "|  9 | Sauron                           | Mordor              | 4 |  8 | C  | Sauron Gmbh                     |   12 | Forced to split from RING AG by the regulator last year |\n",
       "| 10 | Palpatine se                     | A galaxy far beyond | 1 |  1 | E  | Palpatine SE                    |   18 | NA                                                      |\n",
       "\n"
      ],
      "text/plain": [
       "   Id Insured_Names                    Country             Premium Limit\n",
       "1   1 Google, Inc.                     US                  1       10   \n",
       "2   2 Apple, Inc.                      US                  2       11   \n",
       "3   3 Facebook, Inc.                   NA                  3       12   \n",
       "4   4 Amazon.com, Inc                  United States       4       13   \n",
       "5   5 Microsoft Corporation            United States       5       14   \n",
       "6   6 willkürlicher Firmename          DE                  1        5   \n",
       "7   7 anderer willkuerlicher Firmename AT                  3        6   \n",
       "8   8 CuteKittens KGaA                 CH                  3        7   \n",
       "9   9 Sauron                           Mordor              4        8   \n",
       "10 10 Palpatine se                     A galaxy far beyond 1        1   \n",
       "   matches.id Company_Names                   Evilness_Level\n",
       "1  NA         NA                                NA          \n",
       "2  NA         NA                                NA          \n",
       "3  NA         NA                                NA          \n",
       "4  NA         NA                                NA          \n",
       "5  NA         NA                                NA          \n",
       "6  G          willkürlicher Firmename            4          \n",
       "7  H          anderer willkürlicher Firmename    9          \n",
       "8  F          Cute Kittens KGaA               2000          \n",
       "9  C          Sauron Gmbh                       12          \n",
       "10 E          Palpatine SE                      18          \n",
       "   Comments                                               \n",
       "1  NA                                                     \n",
       "2  NA                                                     \n",
       "3  NA                                                     \n",
       "4  NA                                                     \n",
       "5  NA                                                     \n",
       "6  NA                                                     \n",
       "7  NA                                                     \n",
       "8  Quite not what you think they are                      \n",
       "9  Forced to split from RING AG by the regulator last year\n",
       "10 NA                                                     "
      ]
     },
     "metadata": {},
     "output_type": "display_data"
    }
   ],
   "source": [
    "\n",
    "FlagPortfolioEntries_v4.0 <- function(portfolio, target.list, threshold = 0.9) {\n",
    "\n",
    "  cleaned.insured.names <- CleanCompanyNames(portfolio$Insured_Names)\n",
    "  cleaned.list.names    <- CleanCompanyNames(target.list$Company_Names)\n",
    "\n",
    "  matches.locations <- FindFuzzyMatches(cleaned.insured.names, cleaned.list.names, threshold)\n",
    "  portfolio$matches.id <- target.list$Id[matches.locations]\n",
    "  \n",
    "  matched.portfolio <- left_join(portfolio, target.list, by = c(\"matches.id\" = \"Id\"))\n",
    "  \n",
    "  return(matched.portfolio)\n",
    "}\n",
    "\n",
    "FlagPortfolioEntries_v4.0(toy.portfolio, toy.target.list)\n"
   ]
  },
  {
   "cell_type": "markdown",
   "metadata": {},
   "source": [
    "## 5. To go further\n",
    "\n",
    "\n",
    "There are a variety of problems we did not tackle closely in this meeting but which are nevertheless very important.\n",
    "\n",
    "#### How to choose the best threshold?\n",
    "\n",
    "When using fuzzy-matching techniques, as evidenced above, we always need to define a threshold which will define which record qualify as \"matches\". But how to optimally choose such a threshold? The right approach here is to use a validated test set. In the example above, it could correspond to a test portfolio and and test target list where the *actual* matches (or 'ground truth') are known beforehand. This then allows to run the algorithm on the test-set for various values of the threshold (or, incidentally as a function of other possible parameters to the program, such as the list stop words used, some hyperparameters governing the metric, etc.). When doing so, one can observe how various performance metric (such as the rate of true positive rate, the rate of false negatives, or for instance the F1) score, are varying, and pick a threshold which maximizes the performance metric of interest. A common and simple starting point here is to use the F1 score.\n",
    "\n",
    "#### Managing ties in the score\n",
    "\n",
    "When cleaning input names and using probabilistic record linkage, the practitioner will inevitably encounter the problem of *ties* - this is, where a record has several matches with the very same score. Imagine for example the following example: you have *coca-cola* in your input portfolio and *coca-cola UK* as well as *coca-cola US* in your target list. Using a metric such as Levensthein, the similariy score will be the very same for the both target - there is a *tie* in the score. What to do in such a situation; to which of the two records should *coca-cola* match? This *ties values* problem is actually much more pervavise than can be intuitively thought, especialyl when the target is very large and the target space therefore becomes *dense* and likely to create multiple matches.\n",
    "\n",
    "The simplest approach to this problem is to return all the match candidates and let the user decide which one to pick. More elaborate tactics typically involve using extra dimensions (such as country information), or using corporate onwership tree information (in the example above, it is for instance clear both candidate belong to the same corporation, so some simplification could be performed). \n",
    "\n",
    "#### Using different string metric\n",
    "\n",
    "There are a flurry of string similarity measures which can be used to measure how close to given strings are. We used in the example above the most famous and easiest one - levensthein - but many other, more powerful options exist, such as Jaccard, Jaro-Winkler, etc. Ideally, with a test-set defined as described above, different metrics can be compared against each other objectively and choosed on the basis or their merit. More involved approach can include computing weighted average scores based on the values of several metrics.\n",
    "\n",
    "#### Beyond string similarity measures\n",
    "\n",
    "We very often have additional information on top of the company names, for instance, the headquarter country,\n",
    "the industry the company is active in, or even the revenue, number of employes. These information can be present in the input data (the 'portfolio'), in the target data (the 'exclusion list') or in both. \n",
    "\n",
    "Crucially, all these dimensions can also be used for the matching, in various ways. They can for instance be used to pre-filter the target space, to thin the post-matching results (see the 'ties problem' described just above), or to compute more involved scoring going beyond string similary measures and which simultaneously involve several dimensions at the same time. \n",
    "\n",
    "To go even further, some standards NLP techniqeus such as tf-idf, neural nets, etc, can also be used - at the expanse sometimes of the interpretability of the result, however. Some examples can be found in the references below.\n",
    "\n",
    "\n",
    "#### Some further references\n",
    "* ref 1\n",
    "* ref 2\n",
    "* ref 3 "
   ]
  },
  {
   "cell_type": "markdown",
   "metadata": {},
   "source": []
  }
 ],
 "metadata": {
  "jupytext": {
   "cell_metadata_filter": "warning,message,name,tags,-all",
   "main_language": "R",
   "notebook_metadata_filter": "-all"
  },
  "kernelspec": {
   "display_name": "R",
   "language": "R",
   "name": "ir"
  },
  "language_info": {
   "codemirror_mode": "r",
   "file_extension": ".r",
   "mimetype": "text/x-r-source",
   "name": "R",
   "pygments_lexer": "r",
   "version": "3.4.2"
  }
 },
 "nbformat": 4,
 "nbformat_minor": 4
}
