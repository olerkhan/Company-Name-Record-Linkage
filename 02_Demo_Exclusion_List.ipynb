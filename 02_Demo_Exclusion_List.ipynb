{
 "cells": [
  {
   "cell_type": "markdown",
   "metadata": {},
   "source": [
    "# Demo - Exclusion List"
   ]
  },
  {
   "cell_type": "markdown",
   "metadata": {},
   "source": [
    "### Getting started\n",
    "\n",
    "For running this demonstration, we first need to install and load a few R packages, which can be done by running the following lines:"
   ]
  },
  {
   "cell_type": "code",
   "execution_count": null,
   "metadata": {
    "message": false,
    "warning": false
   },
   "outputs": [],
   "source": [
    "required.packages <- c(\"rio\", \"dplyr\", \"tm\", \"RecordLinkage\")\n",
    "\n",
    "is.not.installed <- !(required.packages %in% installed.packages())\n",
    "if (any(is.not.installed)) {\n",
    "    install.packages(required.packages[is.not.installed])\n",
    "}\n",
    "invisible(lapply(required.packages, library, character.only = TRUE))\n"
   ]
  },
  {
   "cell_type": "markdown",
   "metadata": {},
   "source": [
    "The following url also will also allow one to get access to the data used for the demo:\n"
   ]
  },
  {
   "cell_type": "code",
   "execution_count": 111,
   "metadata": {
    "lines_to_next_cell": 2,
    "message": false,
    "warning": false
   },
   "outputs": [],
   "source": [
    "    \n",
    "path.to.github <- \"https://raw.github.com/olerkhan/Company-Name-Record-Linkage/master/\"\n",
    "\n",
    "# (For Swiss Re only)\n",
    "Sys.setenv(https_proxy = \"gate-zrh.swissre.com:9443\")\n"
   ]
  },
  {
   "cell_type": "markdown",
   "metadata": {},
   "source": [
    "## 1. Looking at the data\n",
    "\n",
    "We fist download some mock data to base our demo on.\n",
    "\n",
    "Note that most of the time, portfolio and target list information can be obtained in tabular format, from excel/csv files or from SQL databases -- we will thus assume such a format is available in our case and use it for the purpose of this presentation. <br>\n",
    "\n",
    "<br>\n",
    "\n",
    "#### Portfolio Data\n",
    "\n",
    "First, let us retrieve and have a look at our portfolio *P*:"
   ]
  },
  {
   "cell_type": "code",
   "execution_count": null,
   "metadata": {
    "name": "cars"
   },
   "outputs": [],
   "source": [
    "\n",
    "toy.portfolio <- import(paste0(path.to.github, \"Fake_Portfolio.xlsx\"))\n",
    "toy.portfolio <- as_tibble(toy.portfolio)\n"
   ]
  },
  {
   "cell_type": "markdown",
   "metadata": {},
   "source": [
    "We can inspect the content of the *toy.portfolio* to see that it contains a list of companies, which are given by their names, together with some other information (country, headquarters). Furthermore, *toy.portfolio* can also typically cpntain some insurance specific informaion such as premium, limit, attachement point, etc:"
   ]
  },
  {
   "cell_type": "code",
   "execution_count": null,
   "metadata": {},
   "outputs": [],
   "source": [
    "toy.portfolio\n"
   ]
  },
  {
   "cell_type": "markdown",
   "metadata": {},
   "source": [
    "<br>\n",
    "\n",
    "#### Target (exclusion) list data\n",
    "\n",
    "Let us now have a look the target list of 'bad' companies we will need to monitor:"
   ]
  },
  {
   "cell_type": "code",
   "execution_count": null,
   "metadata": {},
   "outputs": [],
   "source": [
    "\n",
    "toy.target.list <- import(paste0(path.to.github, \"Fake_Target_List.xlsx\"))\n",
    "toy.target.list <- as_tibble(toy.target.list)\n",
    "toy.target.list\n"
   ]
  },
  {
   "cell_type": "markdown",
   "metadata": {},
   "source": [
    "<br>\n",
    "\n",
    "## 2. A first naive approach - direct matching\n",
    "\n",
    "We first try the most simplistic (and bound to fail approach) of having direct comparison between the names:"
   ]
  },
  {
   "cell_type": "code",
   "execution_count": null,
   "metadata": {},
   "outputs": [],
   "source": [
    "IsInList <- function(insured.names, target.list.names) {\n",
    "  is.in.list <- insured.names %in% target.list.names\n",
    "  return(is.in.list)\n",
    "}\n",
    "\n",
    "IsInList(\n",
    "  insured.names = c(\"a\", \"b\"), # dummy insured names\n",
    "  target.list.names = c(\"aa\", \"aaa\", \"\", \"b\", \"not-a\") # dummy target list names\n",
    ")\n"
   ]
  },
  {
   "cell_type": "markdown",
   "metadata": {},
   "source": [
    "*a* does not appear in the target list, but *b* does, hence the FALSE and TRUE.\n",
    "\n",
    "So, as we can see, there is match if and only if there is perfect agreements between the names. Let us now apply this to our portfolio:"
   ]
  },
  {
   "cell_type": "code",
   "execution_count": null,
   "metadata": {},
   "outputs": [],
   "source": [
    "\n",
    "FlagPortfolioEntries <- function(portfolio, target.list) {\n",
    "  is.in.list <- IsInList(portfolio$Insured_Names, target.list$Company_Names)\n",
    "  portfolio[[\"IsInList\"]] <- ifelse(is.in.list, \"Yes\", \"No\")\n",
    "  return(portfolio)\n",
    "}\n",
    "\n",
    "FlagPortfolioEntries(toy.portfolio, toy.target.list) %>% filter(IsInList == \"Yes\")\n"
   ]
  },
  {
   "cell_type": "markdown",
   "metadata": {},
   "source": [
    "<br>\n",
    "\n",
    "The result above shows that only one entry (*Id = 6*) of our portfolio belongs to the target list. However, it is clear to the human eye that this is not enough. The following elements from the portfolio clearly should have been caught too:"
   ]
  },
  {
   "cell_type": "code",
   "execution_count": null,
   "metadata": {},
   "outputs": [],
   "source": [
    "\n",
    "toy.portfolio %>% filter(Id %in% c(7, 8, 9, 10)) %>% pull(\"Insured_Names\") %>% sort()\n"
   ]
  },
  {
   "cell_type": "markdown",
   "metadata": {},
   "source": [
    "Since there are obviously the same than:"
   ]
  },
  {
   "cell_type": "code",
   "execution_count": null,
   "metadata": {},
   "outputs": [],
   "source": [
    "\n",
    "toy.target.list %>% filter(Id %in% c(\"C\", \"E\", \"F\", \"H\")) %>% pull(\"Company_Names\") %>% sort()\n",
    "\n"
   ]
  },
  {
   "cell_type": "markdown",
   "metadata": {},
   "source": [
    "The reason they were not captured is visibly due to some difference in spelling which could not be captured by our 'hard' direct comparison.\n",
    "\n",
    "<br>\n",
    "\n",
    "## 3. A less naive approach - direct matching + cleaning\n",
    "\n",
    "The previous example showed that we are missing some matches because of differences that are irrelevant to the human eyes but matter for a machine: difference in capitalisation, white spaces, and words which carry 'no useful discriminative power', such as gmbh.\n",
    "\n",
    "This suggests we can be much better at capturing the companies of interest by doing some pre-processing, or cleaning, of our data.\n",
    "\n",
    "We present here a very simple example of it:"
   ]
  },
  {
   "cell_type": "code",
   "execution_count": null,
   "metadata": {},
   "outputs": [],
   "source": [
    "\n",
    "CleanCompanyNames <- function(names) {\n",
    "  \n",
    "  stopwords <- c(\"gmbh\", \"kgaA\", \"inc\", \"ag\", \"se\", \"ltd\")\n",
    "  \n",
    "  cleaned.names <- names %>%\n",
    "    tolower() %>%               \n",
    "    removePunctuation() %>%     \n",
    "    removeWords(stopwords) %>%\n",
    "    stripWhitespace() %>%         # N.b. remove duplicated whitespaces\n",
    "    trimws()                      # N.b. remove leading and trailing whitespaces\n",
    "    \n",
    "  return(cleaned.names)\n",
    "}\n",
    "\n",
    "examples <- c(\"Some   name GmBh\", \"Look ...*-. here Ag\", \" heey ltd   \")\n",
    "cleaned.examples <- CleanCompanyNames(examples)\n",
    "cleaned.examples\n"
   ]
  },
  {
   "cell_type": "markdown",
   "metadata": {},
   "source": [
    "Typically, the stopwords can be either be derived from a 'top-down approach' (for instance, list of known legal suffixes, see e.g. [wikipedia](https://en.wikipedia.org/wiki/List_of_legal_entity_types_by_country)) or from a 'bottump-up approach', e.g. doing a frequency analysis on some companynames corpus.\n",
    "\n",
    "Let us now try to use this new 'feature' in our attempt to match the two lists. For this, we will now 'update' our *FlagPortfolioEntries* function:\n"
   ]
  },
  {
   "cell_type": "code",
   "execution_count": null,
   "metadata": {},
   "outputs": [],
   "source": [
    "\n",
    "FlagPortfolioEntries_v2.0 <- function(portfolio, target.list) {\n",
    "  \n",
    "  cleaned.insured.names <- CleanCompanyNames(portfolio$Insured_Names)\n",
    "  cleaned.list.names    <- CleanCompanyNames(target.list$Company_Names)\n",
    "  \n",
    "  is.in.list <- IsInList(cleaned.insured.names, cleaned.list.names)\n",
    "  portfolio[[\"IsInList\"]] <- ifelse(is.in.list, \"Yes\", \"No\")\n",
    "  \n",
    "  return(portfolio)\n",
    "}\n",
    "\n",
    "FlagPortfolioEntries_v2.0(toy.portfolio, toy.target.list) \n",
    "\n"
   ]
  },
  {
   "cell_type": "markdown",
   "metadata": {},
   "source": [
    "This is quite better already and encouraging. Let us now see in the next section how to go even further.\n",
    "\n",
    "<br>\n"
   ]
  },
  {
   "cell_type": "markdown",
   "metadata": {},
   "source": [
    "## 4. Probabilistic Record Linkage - towards a robust solution"
   ]
  },
  {
   "cell_type": "markdown",
   "metadata": {},
   "source": [
    "*Note that record linkage is also sometimes known as __entity linkage__ , and there is debate whether the two names cover the same discipline exactly or not. We will here assume they do and furthemore consider that the task of 'linking records' / 'identifying records with a unique identifier' are the same.*"
   ]
  },
  {
   "cell_type": "markdown",
   "metadata": {},
   "source": [
    "What we have seen so far was *Direct matching*  - two records are linked only if they are identical; or more precisely, if some cleaned or post-processed versions of these records are identical. We will now look at the so-called *fuzzy-matching* approach, also known as 'probabilistic record linkage', which attempts at matching records that may not be perfectly identical, but only very close.\n",
    "\n",
    "<br>\n",
    "  \n",
    "### Fuzzy-matching\n",
    "\n",
    "Sometimes, two records may refer to the same entity but may be present with some spelling variations or typo, making an exact match inaccurate. Compare for instance:"
   ]
  },
  {
   "cell_type": "code",
   "execution_count": null,
   "metadata": {},
   "outputs": [],
   "source": [
    "toy.portfolio %>% filter(Id %in%  c(8, 7)) %>% pull(\"Insured_Names\") %>% sort()\n"
   ]
  },
  {
   "cell_type": "markdown",
   "metadata": {},
   "source": [
    "together with \n"
   ]
  },
  {
   "cell_type": "code",
   "execution_count": null,
   "metadata": {},
   "outputs": [],
   "source": [
    "toy.target.list %>% filter(Id %in% c(\"F\", \"H\")) %>% pull(\"Company_Names\") %>% sort()\n"
   ]
  },
  {
   "cell_type": "markdown",
   "metadata": {},
   "source": [
    "For the human eyes, these records are clearly the same, but not necessarily for a machine.\n",
    "\n",
    "<br>\n",
    "\n",
    "#### A simple string similarity measure - Levenshtein\n",
    "\n",
    "How can we approach this problem? A standard way to adress the problem is to consider 'similarity measure' between strings, the most prominent one being the levenshtein edit (pseudo-)distance:\n"
   ]
  },
  {
   "cell_type": "code",
   "execution_count": null,
   "metadata": {},
   "outputs": [],
   "source": [
    "\n",
    "some.example <- c(\"coca-cola\", \"coca cola\" , \"cocacola UK\", \"koco-mola\", \"Coca Cola World\")\n",
    "\n",
    "levenshteinDist(\"coca-cola\", some.example) # Edit distance: number of permutations/transpositions needed\n"
   ]
  },
  {
   "cell_type": "markdown",
   "metadata": {},
   "source": [
    "Note that in practice, a *normalised distance* is needed, since an edit distance *d=1* for, say, a one-letter word or instead for a 20-letters word obviously would carry  different implications. For this reason, string distances are in practice always normalised between 0 and 1 (in the case of Levenshtein, this is customarily done by dividing by the largest length of the noun used for comparison) - a distance of 0 means two words are identical, and the closer the distance is from 1, the more different two words are. \n",
    "\n",
    "Furthemore, it is also often customary to use 'similarity' instead of distance - where similarity is simply defined as *1 - distance*. Hence a similarity of 1 means perfect identity, and a similarity of 0 implies total dissimilarity between the two words. These notions being defined, we can look at the same example again:"
   ]
  },
  {
   "cell_type": "markdown",
   "metadata": {},
   "source": [
    "``` {r}\n",
    "\n",
    "some.example <- c(\"coca-cola\", \"coca cola\" , \"cocacola UK\", \"koco-mola\", \"Coca Cola World\")\n",
    "levenshteinSim(\"coca-cola\", some.example)  # Normalised between 0 and 1\n",
    "\n",
    "\n",
    "``` \n",
    "\n",
    "As announced above, we see here that  similarity of 1 corresponds to a perfect match, and the closer to 0 the worse it gets. In order to use similarity measures to match two lists against each other, we will of course need to introduce a score threshold.\n"
   ]
  },
  {
   "cell_type": "code",
   "execution_count": null,
   "metadata": {
    "lines_to_next_cell": 2
   },
   "outputs": [],
   "source": [
    "\n",
    "IsInlist_Fuzyy <- function(insured.names, list.names, threshold) {\n",
    "\n",
    "  is.in.list <- vector(mode = \"logical\", length = length(insured.names))\n",
    "  \n",
    "  for (i in 1:length(insured.names)) { # N.b. this is a pedagogical but not very efficient implementation!\n",
    "    score <- levenshteinSim(insured.names[i], list.names)\n",
    "    best.score <- max(score)\n",
    "    is.in.list[i] <- ifelse(best.score >= threshold, TRUE, FALSE)\n",
    "  }\n",
    "\n",
    "  return(is.in.list)\n",
    "}\n",
    "\n",
    "\n",
    "IsInlist_Fuzyy(\n",
    "  insured.names = c(\"coca-cola\", \"coca cola\" , \"cocacola UK\", \"koco-mola\", \"fanta Inc\", \"ZZZ Corp\") ,\n",
    "  list.names = c(\"coca-cola\", \"fanta Inc.\"), \n",
    "  threshold = 1\n",
    ")\n"
   ]
  },
  {
   "cell_type": "markdown",
   "metadata": {},
   "source": [
    "Note imposing a threshold of 1 is identical to direct matching. Note also than inevitable false positives will appear when playing with the treshold value!\n"
   ]
  },
  {
   "cell_type": "code",
   "execution_count": null,
   "metadata": {
    "lines_to_next_cell": 2
   },
   "outputs": [],
   "source": [
    "\n",
    "IsInlist_Fuzyy(\n",
    "  insured.names = c(\"coca-cola\", \"coca cola\" , \"cocacola UK\", \"koco-mola\", \"fanta Inc\", \"ZZZ Corp\") ,\n",
    "  list.names = c(\"coca-cola\", \"fanta Inc.\"), \n",
    "  threshold = 0.65\n",
    ")\n"
   ]
  },
  {
   "cell_type": "markdown",
   "metadata": {},
   "source": [
    "Last but not least, it should here be noted that using fuzzy-matching, as we did, for the following cases:"
   ]
  },
  {
   "cell_type": "code",
   "execution_count": null,
   "metadata": {},
   "outputs": [],
   "source": [
    "toy.portfolio %>% filter(Id %in%  c(7)) %>% pull(\"Insured_Names\") \n",
    "toy.target.list %>% filter(Id %in% c(\"H\")) %>% pull(\"Company_Names\") "
   ]
  },
  {
   "cell_type": "markdown",
   "metadata": {},
   "source": [
    "is not the only way to go. The difference caused by special characters like the umlaut here could have also typically been dealt during the 'cleaning' phase."
   ]
  },
  {
   "cell_type": "markdown",
   "metadata": {},
   "source": [
    "<br>\n",
    "\n",
    "#### Wrapping it up: Levenshtein + name cleaning\n",
    "\n",
    "Eventually, we can now flag our portfolio using all what we have seen so far!\n",
    "\n"
   ]
  },
  {
   "cell_type": "code",
   "execution_count": null,
   "metadata": {},
   "outputs": [],
   "source": [
    "\n",
    "FlagPortfolioEntries_v3.0 <- function(portfolio, target.list, threshold = 0.9) {\n",
    "\n",
    "  cleaned.insured.names <- CleanCompanyNames(portfolio$Insured_Names)\n",
    "  cleaned.list.names    <- CleanCompanyNames(target.list$Company_Names)\n",
    "\n",
    "  is.in.list <- IsInlist_Fuzyy(cleaned.insured.names, cleaned.list.names, threshold)\n",
    "  portfolio[[\"IsInList\"]] <- ifelse(is.in.list, \"Yes\", \"No\")\n",
    "\n",
    "  return(portfolio)\n",
    "}\n",
    "\n",
    "FlagPortfolioEntries_v3.0(toy.portfolio, toy.target.list)\n"
   ]
  },
  {
   "cell_type": "markdown",
   "metadata": {},
   "source": [
    "We see that we now obtain a decent result!\n",
    "\n",
    "<br>\n",
    "\n",
    "### An important practical aspect - what did I match against exactly?\n",
    "\n",
    "So far our *FlagPortfolioEntries* function was only telling us which record in our portfolio was present in the target list. However, in practice, what is most of the time needed is to know *to which record of the target list* or portfolio entry was matched again. This is especially true when the goal is also to do data enrichment.\n",
    "\n",
    "The good news is, it is very straightforward to modify the previous code to achieve this. First we adapt our fuzzy matching function so that it returns, for each portfolio record, the row index of the target list against it there was match (if there was indeed any):\n"
   ]
  },
  {
   "cell_type": "code",
   "execution_count": null,
   "metadata": {},
   "outputs": [],
   "source": [
    "\n",
    "FindFuzzyMatches <- function(insured.names, list.names, threshold) {\n",
    "\n",
    "  matches.location <- vector(mode = \"integer\", length = length(insured.names))\n",
    "  \n",
    "  for (i in 1:length(insured.names)) { # N.b. this is a pedagogical but not very efficient implementation!\n",
    "    score <- levenshteinSim(insured.names[i], list.names)\n",
    "    best.score <- max(score)\n",
    "    best.match.index <- which.max(score)\n",
    "    matches.location[i] <- ifelse(best.score >= threshold, best.match.index, NA)\n",
    "  }\n",
    "\n",
    "  return(matches.location)\n",
    "}\n",
    "\n",
    "FindFuzzyMatches(\n",
    "  insured.names = c(\"coca-cola\", \"coca cola\" , \"cocacola UK\", \"koco-mola\", \"fanta Inc\", \"ZZZ Corp\") ,\n",
    "  list.names = c(\"coca-cola\", \"fanta Inc.\"), \n",
    "  threshold = 0.6\n",
    ")\n"
   ]
  },
  {
   "cell_type": "markdown",
   "metadata": {},
   "source": [
    "Notice that we can visualise this result in a 'friendlier' way as follows:"
   ]
  },
  {
   "cell_type": "code",
   "execution_count": null,
   "metadata": {},
   "outputs": [],
   "source": [
    "matches.location <- FindFuzzyMatches(\n",
    "  insured.names = c(\"coca-cola\", \"coca cola\" , \"cocacola UK\", \"koco-mola\", \"fanta Inc\", \"ZZZ Corp\") ,\n",
    "  list.names = c(\"coca-cola\", \"fanta Inc.\"), \n",
    "  threshold = 0.6\n",
    ")\n",
    "\n",
    " c(\"coca-cola\", \"fanta Inc.\")[matches.location]\n"
   ]
  },
  {
   "cell_type": "markdown",
   "metadata": {},
   "source": [
    "Eventually we can use this slightly modified form to perform a left join and reach the desired result:\n"
   ]
  },
  {
   "cell_type": "code",
   "execution_count": null,
   "metadata": {},
   "outputs": [],
   "source": [
    "\n",
    "FlagPortfolioEntries_v4.0 <- function(portfolio, target.list, threshold = 0.9) {\n",
    "\n",
    "  cleaned.insured.names <- CleanCompanyNames(portfolio$Insured_Names)\n",
    "  cleaned.list.names    <- CleanCompanyNames(target.list$Company_Names)\n",
    "\n",
    "  matches.locations <- FindFuzzyMatches(cleaned.insured.names, cleaned.list.names, threshold)\n",
    "  portfolio$matches.id <- target.list$Id[matches.locations]\n",
    "  \n",
    "  matched.portfolio <- left_join(portfolio, target.list, by = c(\"matches.id\" = \"Id\"))\n",
    "  \n",
    "  return(matched.portfolio)\n",
    "}\n",
    "\n",
    "FlagPortfolioEntries_v4.0(toy.portfolio, toy.target.list)\n"
   ]
  },
  {
   "cell_type": "markdown",
   "metadata": {},
   "source": [
    "## 5. To go further\n",
    "\n",
    "### Tackle some practical problem\n",
    "\n",
    "How to choose the threshold ? What when there are ties in the fuzzy-matching scoring?\n",
    "\n",
    "### Using different string metric\n",
    "\n",
    "Jaccard, Jaro-Winkler, ..."
   ]
  },
  {
   "cell_type": "markdown",
   "metadata": {},
   "source": [
    "### Using several dimensions\n",
    "\n",
    "We very often have other information that the company names, for instance, the headquarter country,\n",
    "the industry the company is active in, etc. All these dimensions can also be used for the matching.\n",
    "\n",
    "Note that this can be done with direct matching and with fuzzy matching, or with a combination of both!"
   ]
  },
  {
   "cell_type": "markdown",
   "metadata": {},
   "source": [
    "### Machine Learning\n",
    "\n",
    "No time to cover this here, but some name drops:\n",
    "\n",
    "Train set, testset, tf-idf, boost using revenue, etc.\n",
    "\n",
    "And some linking to the literature:\n",
    "\n",
    "* ref 1\n",
    "* ref 2\n",
    "* ref 3 \n",
    "\n",
    "\n",
    "\n",
    "\n",
    "\n",
    "\n"
   ]
  }
 ],
 "metadata": {
  "jupytext": {
   "cell_metadata_filter": "warning,message,name,tags,-all",
   "main_language": "R",
   "notebook_metadata_filter": "-all"
  },
  "kernelspec": {
   "display_name": "R",
   "language": "R",
   "name": "ir"
  },
  "language_info": {
   "codemirror_mode": "r",
   "file_extension": ".r",
   "mimetype": "text/x-r-source",
   "name": "R",
   "pygments_lexer": "r",
   "version": "3.6.1"
  }
 },
 "nbformat": 4,
 "nbformat_minor": 4
}
